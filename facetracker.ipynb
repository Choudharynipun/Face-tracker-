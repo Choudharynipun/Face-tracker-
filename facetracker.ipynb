{
  "nbformat": 4,
  "nbformat_minor": 0,
  "metadata": {
    "colab": {
      "provenance": [],
      "authorship_tag": "ABX9TyOHa7pQCuR71tO4gV8oiwVd",
      "include_colab_link": true
    },
    "kernelspec": {
      "name": "python3",
      "display_name": "Python 3"
    },
    "language_info": {
      "name": "python"
    }
  },
  "cells": [
    {
      "cell_type": "markdown",
      "metadata": {
        "id": "view-in-github",
        "colab_type": "text"
      },
      "source": [
        "<a href=\"https://colab.research.google.com/github/Choudharynipun/Face-tracker-/blob/main/facetracker.ipynb\" target=\"_parent\"><img src=\"https://colab.research.google.com/assets/colab-badge.svg\" alt=\"Open In Colab\"/></a>"
      ]
    },
    {
      "cell_type": "code",
      "execution_count": null,
      "metadata": {
        "id": "fS3-iilTaDKl"
      },
      "outputs": [],
      "source": [
        "import cv2\n",
        "import rects\n",
        "import utils"
      ]
    },
    {
      "cell_type": "code",
      "source": [
        "class Face(object):\n",
        "  def __init__(self):\n",
        "    self.faceRect = None\n",
        "    self.leftEyeRect = None\n",
        "    self.rightEyeRect = None\n",
        "    self.noseRect = None\n",
        "    self.mouthRect = None"
      ],
      "metadata": {
        "id": "I9mng4sOaMFd"
      },
      "execution_count": null,
      "outputs": []
    },
    {
      "cell_type": "code",
      "source": [
        "class FaceTracker(object):\n",
        "  def __init__(self, scaleFactor = 1.2, minNeighbors = 2,\n",
        "             flags = cv2.cv.CV_HAAR_SCALE_IMAGE):\n",
        "\n",
        "    self.scaleFactor = scaleFactor\n",
        "    self.minNeighbors = minNeighbors\n",
        "    self.flags = flags\n",
        "\n",
        "    self._faces = []\n",
        "\n",
        "    self._faceClassifier = cv2.CascadeClassifier(\n",
        "        'cascades/haarcascade_frontalface_alt.xml')\n",
        "    self._eyeClassifier = cv2.CascadeClassifier(\n",
        "        'cascades/haarcascade_eye.xml')\n",
        "    self._noseClassifier = cv2.CascadeClassifier(\n",
        "        'cascades/haarcascade_mcs_nose.xml')\n",
        "    self._mouthClassifier = cv2.CascadeClassifier(\n",
        "        'cascades/haarcascade_mcs_mouth.xml')\n",
        "\n",
        "@property\n",
        "def faces(self):\n",
        "    \"\"\"The tracked facial features.\"\"\"\n",
        "    return self._faces\n",
        "\n",
        "def update(self, image):\n",
        "    \"\"\"Update the tracked facial features.\"\"\"\n",
        "\n",
        "    self._faces = []\n",
        "\n",
        "    if utils.isGray(image):\n",
        "        image = cv2.equalizeHist(image)\n",
        "    else:\n",
        "        image = cv2.cvtColor(image, cv2.cv.CV_BGR2GRAY)\n",
        "        cv2.equalizeHist(image, image)\n",
        "\n",
        "    minSize = utils.widthHeightDividedBy(image, 8)\n",
        "\n",
        "    faceRects = self._faceClassifier.detectMultiScale(\n",
        "        image, self.scaleFactor, self.minNeighbors, self.flags,\n",
        "        minSize)\n",
        "\n",
        "    if faceRects is not None:\n",
        "        for faceRect in faceRects:\n",
        "\n",
        "            face = Face()\n",
        "            face.faceRect = faceRect\n",
        "\n",
        "            x, y, w, h = faceRect\n",
        "\n",
        "            # Seek an eye in the upper-left part of the face.\n",
        "            searchRect = (x+w/7, y, w*2/7, h/2)\n",
        "            face.leftEyeRect = self._detectOneObject(\n",
        "                self._eyeClassifier, image, searchRect, 64)\n",
        "\n",
        "            # Seek an eye in the upper-right part of the face.\n",
        "            searchRect = (x+w*4/7, y, w*2/7, h/2)\n",
        "            face.rightEyeRect = self._detectOneObject(\n",
        "                self._eyeClassifier, image, searchRect, 64)\n",
        "\n",
        "            # Seek a nose in the middle part of the face.\n",
        "            searchRect = (x+w/4, y+h/4, w/2, h/2)\n",
        "            face.noseRect = self._detectOneObject(\n",
        "                self._noseClassifier, image, searchRect, 32)\n",
        "\n",
        "            # Seek a mouth in the lower-middle part of the face.\n",
        "            searchRect = (x+w/6, y+h*2/3, w*2/3, h/3)\n",
        "            face.mouthRect = self._detectOneObject(\n",
        "                self._mouthClassifier, image, searchRect, 16)\n",
        "\n",
        "            self._faces.append(face)\n",
        "\n",
        "def _detectOneObject(self, classifier, image, rect,\n",
        "                      imageSizeToMinSizeRatio):\n",
        "\n",
        "    x, y, w, h = rect\n",
        "\n",
        "    minSize = utils.widthHeightDividedBy(\n",
        "        image, imageSizeToMinSizeRatio)\n",
        "\n",
        "    subImage = image[y:y+h, x:x+w]\n",
        "\n",
        "    subRects = classifier.detectMultiScale(\n",
        "        subImage, self.scaleFactor, self.minNeighbors,\n",
        "        self.flags, minSize)\n",
        "\n",
        "    if len(subRects) == 0:\n",
        "        return None\n",
        "\n",
        "    subX, subY, subW, subH = subRects[0]\n",
        "    return (x+subX, y+subY, subW, subH)\n",
        "\n",
        "def drawDebugRects(self, image):\n",
        "    \"\"\"Draw rectangles around the tracked facial features.\"\"\"\n",
        "\n",
        "    if utils.isGray(image):\n",
        "        faceColor = 255\n",
        "        leftEyeColor = 255\n",
        "        rightEyeColor = 255\n",
        "        noseColor = 255\n",
        "        mouthColor = 255\n",
        "    else:\n",
        "        faceColor = (255, 255, 255) # white\n",
        "        leftEyeColor = (0, 0, 255) # red\n",
        "        rightEyeColor = (0, 255, 255) # yellow\n",
        "        noseColor = (0, 255, 0) # green\n",
        "        mouthColor = (255, 0, 0) # blue\n",
        "\n",
        "    for face in self.faces:\n",
        "        rects.outlineRect(image, face.faceRect, faceColor)\n",
        "        rects.outlineRect(image, face.leftEyeRect, leftEyeColor)\n",
        "        rects.outlineRect(image, face.rightEyeRect,\n",
        "                          rightEyeColor)\n",
        "        rects.outlineRect(image, face.noseRect, noseColor)\n",
        "        rects.outlineRect(image, face.mouthRect, mouthColor)"
      ],
      "metadata": {
        "id": "xt8c6ZGbaMB4"
      },
      "execution_count": null,
      "outputs": []
    },
    {
      "cell_type": "code",
      "source": [],
      "metadata": {
        "id": "NULgWRV5aL_h"
      },
      "execution_count": null,
      "outputs": []
    },
    {
      "cell_type": "code",
      "source": [],
      "metadata": {
        "id": "9m_Aux6WaL9U"
      },
      "execution_count": null,
      "outputs": []
    },
    {
      "cell_type": "code",
      "source": [],
      "metadata": {
        "id": "BkmrmcRUaL7E"
      },
      "execution_count": null,
      "outputs": []
    }
  ]
}